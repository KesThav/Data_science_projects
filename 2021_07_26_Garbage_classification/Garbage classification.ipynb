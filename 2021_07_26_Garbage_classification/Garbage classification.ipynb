{
 "cells": [
  {
   "cell_type": "markdown",
   "id": "improving-namibia",
   "metadata": {},
   "source": [
    "# Garbage classification"
   ]
  },
  {
   "cell_type": "markdown",
   "id": "iraqi-karaoke",
   "metadata": {},
   "source": [
    "https://www.kaggle.com/asdasdasasdas/garbage-classification"
   ]
  },
  {
   "cell_type": "code",
   "execution_count": 1,
   "id": "9570bec0",
   "metadata": {},
   "outputs": [
    {
     "name": "stdout",
     "output_type": "stream",
     "text": [
      "Requirement already satisfied: matplotlib in c:\\users\\kesig\\anaconda3\\envs\\tf-keras-gpu\\lib\\site-packages (3.3.4)\n",
      "Requirement already satisfied: numpy>=1.15 in c:\\users\\kesig\\anaconda3\\envs\\tf-keras-gpu\\lib\\site-packages (from matplotlib) (1.19.2)\n",
      "Requirement already satisfied: python-dateutil>=2.1 in c:\\users\\kesig\\anaconda3\\envs\\tf-keras-gpu\\lib\\site-packages (from matplotlib) (2.8.2)\n",
      "Requirement already satisfied: kiwisolver>=1.0.1 in c:\\users\\kesig\\anaconda3\\envs\\tf-keras-gpu\\lib\\site-packages (from matplotlib) (1.3.1)\n",
      "Requirement already satisfied: pillow>=6.2.0 in c:\\users\\kesig\\anaconda3\\envs\\tf-keras-gpu\\lib\\site-packages (from matplotlib) (8.3.1)\n",
      "Requirement already satisfied: cycler>=0.10 in c:\\users\\kesig\\anaconda3\\envs\\tf-keras-gpu\\lib\\site-packages (from matplotlib) (0.10.0)\n",
      "Requirement already satisfied: pyparsing!=2.0.4,!=2.1.2,!=2.1.6,>=2.0.3 in c:\\users\\kesig\\anaconda3\\envs\\tf-keras-gpu\\lib\\site-packages (from matplotlib) (2.4.7)\n",
      "Requirement already satisfied: six in c:\\users\\kesig\\anaconda3\\envs\\tf-keras-gpu\\lib\\site-packages (from cycler>=0.10->matplotlib) (1.16.0)\n",
      "2.1.0\n",
      "2.3.1\n"
     ]
    },
    {
     "name": "stderr",
     "output_type": "stream",
     "text": [
      "Using TensorFlow backend.\n"
     ]
    }
   ],
   "source": [
    "!pip install matplotlib\n",
    "import tensorflow as tf\n",
    "print(tf.__version__)\n",
    "import keras\n",
    "print(keras.__version__)"
   ]
  },
  {
   "cell_type": "markdown",
   "id": "joined-wheat",
   "metadata": {},
   "source": [
    "## Load train, test and val set txt file"
   ]
  },
  {
   "cell_type": "markdown",
   "id": "pleased-composite",
   "metadata": {},
   "source": [
    "1. glass\n",
    "2. paper\n",
    "3. cardboard\n",
    "4. plastic\n",
    "5. metal\n",
    "6. trash"
   ]
  },
  {
   "cell_type": "code",
   "execution_count": 3,
   "id": "minor-renewal",
   "metadata": {},
   "outputs": [],
   "source": [
    "import pandas as pd\n",
    "\n",
    "train_path = pd.read_table(\"Q:/glassification/one-indexed-files-notrash_train.txt\", delimiter='\\n',sep=\" \", header=None)\n",
    "val_path = pd.read_table(\"Q:/glassification/one-indexed-files-notrash_val.txt\", delimiter='\\n',sep=\" \", header=None)\n",
    "test_path = pd.read_table(\"Q:/glassification/one-indexed-files-notrash_test.txt\", delimiter='\\n',sep=\" \", header=None)"
   ]
  },
  {
   "cell_type": "code",
   "execution_count": 4,
   "id": "timely-evans",
   "metadata": {},
   "outputs": [],
   "source": [
    "train_path[['file_name','label']] = train_path[0].str.split(expand=True)\n",
    "val_path[['file_name','label']] = val_path[0].str.split(expand=True)\n",
    "test_path[['file_name','label']] = test_path[0].str.split(expand=True)"
   ]
  },
  {
   "cell_type": "code",
   "execution_count": 5,
   "id": "regulation-dallas",
   "metadata": {},
   "outputs": [],
   "source": [
    "train_path.drop(columns=0,inplace=True)\n",
    "val_path.drop(columns=0,inplace=True)\n",
    "test_path.drop(columns=0,inplace=True)"
   ]
  },
  {
   "cell_type": "markdown",
   "id": "dc451e08",
   "metadata": {},
   "source": [
    "## Prepare images path"
   ]
  },
  {
   "cell_type": "code",
   "execution_count": 6,
   "id": "green-transsexual",
   "metadata": {},
   "outputs": [],
   "source": [
    "def category(df_file_name):\n",
    "    lst = []\n",
    "    result = df_file_name.str.split('.',expand=True)\n",
    "    result = result[0]\n",
    "    for data in result:\n",
    "        dt = ''.join([i for i in data if not i.isdigit()])\n",
    "        lst.append(dt)\n",
    "    return lst\n",
    "\n",
    "#get category\n",
    "cat_train = category(train_path['file_name'])\n",
    "train_path = pd.concat((pd.Series(cat_train), train_path),axis=1)\n",
    "\n",
    "cat_val = category(val_path['file_name'])\n",
    "val_path = pd.concat((pd.Series(cat_val), val_path),axis=1)\n",
    "\n",
    "cat_test = category(test_path['file_name'])\n",
    "test_path = pd.concat((pd.Series(cat_test), test_path),axis=1)"
   ]
  },
  {
   "cell_type": "code",
   "execution_count": 7,
   "id": "cathedral-cursor",
   "metadata": {},
   "outputs": [],
   "source": [
    "train_path['full_path'] = \"Q:/glassification/\"+train_path[0]+\"/\"+train_path['file_name']\n",
    "val_path['full_path'] = \"Q:/glassification/\"+val_path[0]+\"/\"+val_path['file_name']\n",
    "test_path['full_path'] = \"Q:/glassification/\"+test_path[0]+\"/\"+test_path['file_name']"
   ]
  },
  {
   "cell_type": "code",
   "execution_count": 8,
   "id": "violent-afternoon",
   "metadata": {},
   "outputs": [],
   "source": [
    "path_to_train = train_path['full_path'].values.tolist()\n",
    "train_labels = train_path['label'].to_numpy().astype('int')\n",
    "\n",
    "path_to_val = val_path['full_path'].values.tolist()\n",
    "val_labels = val_path['label'].to_numpy().astype('int')\n",
    "\n",
    "path_to_test = test_path['full_path'].values.tolist()\n",
    "test_labels = test_path['label'].to_numpy().astype('int')"
   ]
  },
  {
   "cell_type": "markdown",
   "id": "pressed-certificate",
   "metadata": {},
   "source": [
    "## Create datasets"
   ]
  },
  {
   "cell_type": "code",
   "execution_count": 28,
   "id": "tired-electric",
   "metadata": {},
   "outputs": [],
   "source": [
    "import tensorflow as tf\n",
    "import numpy as np\n",
    "\n",
    "\n",
    "#read images\n",
    "def read_images(filename):\n",
    "    image_string = tf.io.read_file(filename)\n",
    "    image_decoded = tf.image.decode_jpeg(image_string, channels=3)\n",
    "    image = tf.cast(image_decoded, tf.float32) / 255\n",
    "    return image.numpy()\n",
    "\n",
    "\n",
    "train = list(map(read_images, path_to_train))\n",
    "val = list(map(read_images, path_to_val))\n",
    "test = list(map(read_images, path_to_test))\n"
   ]
  },
  {
   "cell_type": "code",
   "execution_count": 29,
   "id": "domestic-intro",
   "metadata": {},
   "outputs": [],
   "source": [
    "train_x = np.array(train)\n",
    "val_x = np.array(val)\n",
    "test_x = np.array(test)"
   ]
  },
  {
   "cell_type": "code",
   "execution_count": 30,
   "id": "potential-austria",
   "metadata": {},
   "outputs": [
    {
     "name": "stdout",
     "output_type": "stream",
     "text": [
      "(1768, 384, 512, 3)\n",
      "(328, 384, 512, 3)\n",
      "(431, 384, 512, 3)\n",
      "(1768,)\n",
      "(328,)\n",
      "(431,)\n"
     ]
    }
   ],
   "source": [
    "print(train_x.shape)\n",
    "print(val_x.shape)\n",
    "print(test_x.shape)\n",
    "\n",
    "print(train_labels.shape)\n",
    "print(val_labels.shape)\n",
    "print(test_labels.shape)"
   ]
  },
  {
   "cell_type": "code",
   "execution_count": 31,
   "id": "possible-triangle",
   "metadata": {},
   "outputs": [],
   "source": [
    "train_labels_encoded = pd.get_dummies(train_labels).to_numpy()\n",
    "val_labels_encoded = pd.get_dummies(val_labels).to_numpy()"
   ]
  },
  {
   "cell_type": "markdown",
   "id": "grand-offense",
   "metadata": {},
   "source": [
    "## Train tensorflow model"
   ]
  },
  {
   "cell_type": "code",
   "execution_count": 71,
   "id": "environmental-wichita",
   "metadata": {},
   "outputs": [
    {
     "name": "stdout",
     "output_type": "stream",
     "text": [
      "Model: \"sequential_20\"\n",
      "_________________________________________________________________\n",
      "Layer (type)                 Output Shape              Param #   \n",
      "=================================================================\n",
      "conv2d_92 (Conv2D)           (None, 382, 510, 32)      896       \n",
      "_________________________________________________________________\n",
      "max_pooling2d_92 (MaxPooling (None, 191, 255, 32)      0         \n",
      "_________________________________________________________________\n",
      "conv2d_93 (Conv2D)           (None, 189, 253, 64)      18496     \n",
      "_________________________________________________________________\n",
      "max_pooling2d_93 (MaxPooling (None, 94, 126, 64)       0         \n",
      "_________________________________________________________________\n",
      "conv2d_94 (Conv2D)           (None, 92, 124, 64)       36928     \n",
      "_________________________________________________________________\n",
      "max_pooling2d_94 (MaxPooling (None, 46, 62, 64)        0         \n",
      "_________________________________________________________________\n",
      "conv2d_95 (Conv2D)           (None, 44, 60, 64)        36928     \n",
      "_________________________________________________________________\n",
      "max_pooling2d_95 (MaxPooling (None, 22, 30, 64)        0         \n",
      "_________________________________________________________________\n",
      "conv2d_96 (Conv2D)           (None, 20, 28, 64)        36928     \n",
      "_________________________________________________________________\n",
      "max_pooling2d_96 (MaxPooling (None, 10, 14, 64)        0         \n",
      "_________________________________________________________________\n",
      "flatten_20 (Flatten)         (None, 8960)              0         \n",
      "_________________________________________________________________\n",
      "dropout_22 (Dropout)         (None, 8960)              0         \n",
      "_________________________________________________________________\n",
      "dense_63 (Dense)             (None, 128)               1147008   \n",
      "_________________________________________________________________\n",
      "dropout_23 (Dropout)         (None, 128)               0         \n",
      "_________________________________________________________________\n",
      "dense_64 (Dense)             (None, 64)                8256      \n",
      "_________________________________________________________________\n",
      "dense_65 (Dense)             (None, 32)                2080      \n",
      "_________________________________________________________________\n",
      "dense_66 (Dense)             (None, 6)                 198       \n",
      "=================================================================\n",
      "Total params: 1,287,718\n",
      "Trainable params: 1,287,718\n",
      "Non-trainable params: 0\n",
      "_________________________________________________________________\n",
      "Train on 1768 samples, validate on 328 samples\n",
      "Epoch 1/50\n",
      "1768/1768 [==============================] - 12s 7ms/step - loss: 1.7016 - accuracy: 0.2325 - val_loss: 1.5746 - val_accuracy: 0.3262\n",
      "Epoch 2/50\n",
      "1768/1768 [==============================] - 12s 7ms/step - loss: 1.5468 - accuracy: 0.3445 - val_loss: 1.6876 - val_accuracy: 0.3110\n",
      "Epoch 3/50\n",
      "1768/1768 [==============================] - 12s 7ms/step - loss: 1.4866 - accuracy: 0.3739 - val_loss: 1.3861 - val_accuracy: 0.4116\n",
      "Epoch 4/50\n",
      "1768/1768 [==============================] - 12s 7ms/step - loss: 1.4438 - accuracy: 0.4078 - val_loss: 1.4845 - val_accuracy: 0.3872\n",
      "Epoch 5/50\n",
      "1768/1768 [==============================] - 12s 7ms/step - loss: 1.4348 - accuracy: 0.3954 - val_loss: 1.5735 - val_accuracy: 0.3567\n",
      "Epoch 6/50\n",
      "1768/1768 [==============================] - 12s 7ms/step - loss: 1.4549 - accuracy: 0.4078 - val_loss: 1.3549 - val_accuracy: 0.4543\n",
      "Epoch 7/50\n",
      "1768/1768 [==============================] - 12s 7ms/step - loss: 1.3148 - accuracy: 0.4638 - val_loss: 1.3590 - val_accuracy: 0.4390\n",
      "Epoch 8/50\n",
      "1768/1768 [==============================] - 12s 7ms/step - loss: 1.2904 - accuracy: 0.4791 - val_loss: 1.2659 - val_accuracy: 0.4970\n",
      "Epoch 9/50\n",
      "1768/1768 [==============================] - 12s 7ms/step - loss: 1.2796 - accuracy: 0.4745 - val_loss: 1.3037 - val_accuracy: 0.4573\n",
      "Epoch 10/50\n",
      "1768/1768 [==============================] - 12s 7ms/step - loss: 1.2329 - accuracy: 0.5017 - val_loss: 1.2563 - val_accuracy: 0.5030\n",
      "Epoch 11/50\n",
      "1768/1768 [==============================] - 12s 7ms/step - loss: 1.1562 - accuracy: 0.5277 - val_loss: 1.1705 - val_accuracy: 0.5335\n",
      "Epoch 12/50\n",
      "1768/1768 [==============================] - 12s 7ms/step - loss: 1.1150 - accuracy: 0.5594 - val_loss: 1.1713 - val_accuracy: 0.5152\n",
      "Epoch 13/50\n",
      "1768/1768 [==============================] - 12s 7ms/step - loss: 1.0887 - accuracy: 0.5747 - val_loss: 1.1902 - val_accuracy: 0.5457\n",
      "Epoch 14/50\n",
      "1768/1768 [==============================] - 12s 7ms/step - loss: 1.0567 - accuracy: 0.5928 - val_loss: 1.0826 - val_accuracy: 0.5793\n",
      "Epoch 15/50\n",
      "1768/1768 [==============================] - 12s 7ms/step - loss: 0.9814 - accuracy: 0.6154 - val_loss: 1.0829 - val_accuracy: 0.5732\n",
      "Epoch 16/50\n",
      "1768/1768 [==============================] - 12s 7ms/step - loss: 0.9560 - accuracy: 0.6482 - val_loss: 1.0574 - val_accuracy: 0.5915\n",
      "Epoch 17/50\n",
      "1768/1768 [==============================] - 12s 7ms/step - loss: 0.8523 - accuracy: 0.6663 - val_loss: 1.1969 - val_accuracy: 0.5610\n",
      "Epoch 18/50\n",
      "1768/1768 [==============================] - 12s 7ms/step - loss: 0.8111 - accuracy: 0.6946 - val_loss: 1.2156 - val_accuracy: 0.5732\n",
      "Epoch 19/50\n",
      "1768/1768 [==============================] - 12s 7ms/step - loss: 0.8271 - accuracy: 0.6900 - val_loss: 1.0713 - val_accuracy: 0.6067\n",
      "Epoch 20/50\n",
      "1768/1768 [==============================] - 12s 7ms/step - loss: 0.7601 - accuracy: 0.7076 - val_loss: 1.0871 - val_accuracy: 0.6189\n",
      "Epoch 21/50\n",
      "1768/1768 [==============================] - 12s 7ms/step - loss: 0.7347 - accuracy: 0.7404 - val_loss: 1.1101 - val_accuracy: 0.5823\n",
      "Epoch 22/50\n",
      "1768/1768 [==============================] - 12s 7ms/step - loss: 0.6944 - accuracy: 0.7336 - val_loss: 1.0773 - val_accuracy: 0.6311\n",
      "Epoch 23/50\n",
      "1768/1768 [==============================] - 12s 7ms/step - loss: 0.5917 - accuracy: 0.7783 - val_loss: 1.0146 - val_accuracy: 0.6433\n",
      "Epoch 24/50\n",
      "1768/1768 [==============================] - 12s 7ms/step - loss: 0.6076 - accuracy: 0.7800 - val_loss: 1.0656 - val_accuracy: 0.6189\n",
      "Epoch 25/50\n",
      "1768/1768 [==============================] - 12s 7ms/step - loss: 0.6388 - accuracy: 0.7687 - val_loss: 1.2105 - val_accuracy: 0.5701\n",
      "Epoch 26/50\n",
      "1768/1768 [==============================] - 12s 7ms/step - loss: 0.6305 - accuracy: 0.7766 - val_loss: 1.1111 - val_accuracy: 0.6128\n",
      "Epoch 27/50\n",
      "1768/1768 [==============================] - 12s 7ms/step - loss: 0.5227 - accuracy: 0.8054 - val_loss: 1.1156 - val_accuracy: 0.6372\n",
      "Epoch 28/50\n",
      "1768/1768 [==============================] - 12s 7ms/step - loss: 0.5071 - accuracy: 0.8066 - val_loss: 1.1796 - val_accuracy: 0.6646\n",
      "Epoch 29/50\n",
      "1768/1768 [==============================] - 12s 7ms/step - loss: 0.4520 - accuracy: 0.8303 - val_loss: 1.1298 - val_accuracy: 0.6433\n",
      "Epoch 30/50\n",
      "1768/1768 [==============================] - 12s 7ms/step - loss: 0.4150 - accuracy: 0.8501 - val_loss: 1.1748 - val_accuracy: 0.6402\n",
      "Epoch 31/50\n",
      "1768/1768 [==============================] - 12s 7ms/step - loss: 0.4000 - accuracy: 0.8535 - val_loss: 1.2725 - val_accuracy: 0.6189\n",
      "Epoch 32/50\n",
      "1768/1768 [==============================] - 12s 7ms/step - loss: 0.3820 - accuracy: 0.8660 - val_loss: 1.2794 - val_accuracy: 0.6494\n",
      "Epoch 33/50\n",
      "1768/1768 [==============================] - 12s 7ms/step - loss: 0.3941 - accuracy: 0.8660 - val_loss: 1.2797 - val_accuracy: 0.6189\n",
      "Epoch 34/50\n",
      "1768/1768 [==============================] - 12s 7ms/step - loss: 0.3670 - accuracy: 0.8637 - val_loss: 1.2715 - val_accuracy: 0.6402\n",
      "Epoch 35/50\n",
      "1768/1768 [==============================] - 12s 7ms/step - loss: 0.3309 - accuracy: 0.8807 - val_loss: 1.2791 - val_accuracy: 0.6433\n",
      "Epoch 36/50\n",
      "1768/1768 [==============================] - 12s 7ms/step - loss: 0.3798 - accuracy: 0.8722 - val_loss: 1.0216 - val_accuracy: 0.6799\n",
      "Epoch 37/50\n",
      "1768/1768 [==============================] - 12s 7ms/step - loss: 0.3553 - accuracy: 0.8750 - val_loss: 1.2497 - val_accuracy: 0.6524\n",
      "Epoch 38/50\n",
      "1768/1768 [==============================] - 12s 7ms/step - loss: 0.3212 - accuracy: 0.8897 - val_loss: 1.3032 - val_accuracy: 0.6768\n",
      "Epoch 39/50\n",
      "1768/1768 [==============================] - 12s 7ms/step - loss: 0.2972 - accuracy: 0.8954 - val_loss: 1.3434 - val_accuracy: 0.6799\n",
      "Epoch 40/50\n",
      "1768/1768 [==============================] - 12s 7ms/step - loss: 0.3526 - accuracy: 0.8722 - val_loss: 1.3062 - val_accuracy: 0.6585\n",
      "Epoch 41/50\n",
      "1768/1768 [==============================] - 12s 7ms/step - loss: 0.2848 - accuracy: 0.9061 - val_loss: 1.4955 - val_accuracy: 0.6524\n",
      "Epoch 42/50\n",
      "1768/1768 [==============================] - 12s 7ms/step - loss: 0.2567 - accuracy: 0.9106 - val_loss: 1.4024 - val_accuracy: 0.6341\n",
      "Epoch 43/50\n",
      "1768/1768 [==============================] - 12s 7ms/step - loss: 0.2343 - accuracy: 0.9146 - val_loss: 1.4162 - val_accuracy: 0.6768\n",
      "Epoch 44/50\n",
      "1768/1768 [==============================] - 12s 7ms/step - loss: 0.2977 - accuracy: 0.8914 - val_loss: 1.5722 - val_accuracy: 0.6463\n",
      "Epoch 45/50\n",
      "1768/1768 [==============================] - 12s 7ms/step - loss: 0.3085 - accuracy: 0.8931 - val_loss: 1.1766 - val_accuracy: 0.6677\n",
      "Epoch 46/50\n",
      "1768/1768 [==============================] - 12s 7ms/step - loss: 0.2525 - accuracy: 0.9089 - val_loss: 1.2954 - val_accuracy: 0.6555\n",
      "Epoch 47/50\n",
      "1768/1768 [==============================] - 12s 7ms/step - loss: 0.2545 - accuracy: 0.9214 - val_loss: 1.2614 - val_accuracy: 0.6829\n",
      "Epoch 48/50\n",
      "1768/1768 [==============================] - 12s 7ms/step - loss: 0.2202 - accuracy: 0.9225 - val_loss: 1.3396 - val_accuracy: 0.6646\n",
      "Epoch 49/50\n",
      "1768/1768 [==============================] - 12s 7ms/step - loss: 0.2134 - accuracy: 0.9270 - val_loss: 1.5491 - val_accuracy: 0.6189\n",
      "Epoch 50/50\n",
      "1768/1768 [==============================] - 12s 7ms/step - loss: 0.2089 - accuracy: 0.9248 - val_loss: 1.4286 - val_accuracy: 0.6707\n"
     ]
    }
   ],
   "source": [
    "import keras\n",
    "from keras.models import Sequential\n",
    "from keras.layers import Conv2D, MaxPooling2D, Dense, Flatten, Dropout\n",
    "from keras.optimizers import Adam\n",
    "\n",
    "num_classes = 6\n",
    "batch_size=32\n",
    "\n",
    "model = keras.Sequential(\n",
    "    [\n",
    "        Conv2D(32, kernel_size=(3, 3), activation=\"relu\",strides=(1,1),input_shape=(384, 512, 3)),\n",
    "        MaxPooling2D(pool_size=(2, 2)),\n",
    "        Conv2D(64, kernel_size=(3, 3), activation=\"relu\"),\n",
    "        MaxPooling2D(pool_size=(2, 2)),\n",
    "        Conv2D(64, kernel_size=(3, 3), activation=\"relu\"),\n",
    "        MaxPooling2D(pool_size=(2, 2)),\n",
    "        Conv2D(64, kernel_size=(3, 3), activation=\"relu\"),\n",
    "        MaxPooling2D(pool_size=(2, 2)),\n",
    "        Conv2D(64, kernel_size=(3, 3), activation=\"relu\"),\n",
    "        MaxPooling2D(pool_size=(2, 2)),\n",
    "        Flatten(),\n",
    "        Dropout(0.5),\n",
    "        Dense(128, activation=\"relu\"),\n",
    "        Dropout(0.5),\n",
    "        Dense(64, activation=\"relu\"),\n",
    "        Dense(32, activation=\"relu\"),\n",
    "        Dense(num_classes, activation=\"softmax\"),\n",
    "    ]\n",
    ")\n",
    "\n",
    "model.summary()\n",
    "\n",
    "model.compile(loss=\"categorical_crossentropy\",optimizer=Adam(learning_rate=0.001),metrics=[\"accuracy\"])\n",
    "history = model.fit(train_x, train_labels_encoded,epochs=50,validation_split=0.2,validation_data=(val_x, val_labels_encoded))"
   ]
  },
  {
   "cell_type": "code",
   "execution_count": 72,
   "id": "70f6ee95",
   "metadata": {},
   "outputs": [
    {
     "data": {
      "text/plain": [
       "<matplotlib.legend.Legend at 0x1bcdd553240>"
      ]
     },
     "execution_count": 72,
     "metadata": {},
     "output_type": "execute_result"
    },
    {
     "data": {
      "image/png": "[encoded data removed]",
      "text/plain": [
       "<Figure size 432x288 with 1 Axes>"
      ]
     },
     "metadata": {
      "needs_background": "light"
     },
     "output_type": "display_data"
    }
   ],
   "source": [
    "plt.plot(history.history['accuracy'], label=\"accuracy\")\n",
    "plt.plot(history.history['val_accuracy'], label=\"val_accuracy\")\n",
    "plt.title('accuracy vs val_accuracy over time')\n",
    "plt.legend()"
   ]
  },
  {
   "cell_type": "markdown",
   "id": "e93c3cf6",
   "metadata": {},
   "source": [
    "## Predict"
   ]
  },
  {
   "cell_type": "code",
   "execution_count": 73,
   "id": "a1e40ecf",
   "metadata": {},
   "outputs": [],
   "source": [
    "prediction = model.predict(test_x)"
   ]
  },
  {
   "cell_type": "code",
   "execution_count": 74,
   "id": "bc4d3233",
   "metadata": {},
   "outputs": [],
   "source": [
    "y_pred = np.argmax(prediction, axis=1)"
   ]
  },
  {
   "cell_type": "code",
   "execution_count": 76,
   "id": "f3311102",
   "metadata": {},
   "outputs": [],
   "source": [
    "y_pred = y_pred + 1"
   ]
  },
  {
   "cell_type": "code",
   "execution_count": 77,
   "id": "28756082",
   "metadata": {},
   "outputs": [
    {
     "name": "stdout",
     "output_type": "stream",
     "text": [
      "score on test set : 0.6357308584686775\n"
     ]
    }
   ],
   "source": [
    "print(f\"score on test set : {(test_labels == y_pred).sum()/len(test_labels)}\")"
   ]
  },
  {
   "cell_type": "markdown",
   "id": "2f45ab64",
   "metadata": {},
   "source": [
    "### Results"
   ]
  },
  {
   "cell_type": "markdown",
   "id": "e248943d",
   "metadata": {},
   "source": [
    ">Train set accuracy : 92.48%\n",
    "\n",
    ">Validation set accuracy : 67.07%\n",
    "\n",
    ">Test set accuracy : 63.57%"
   ]
  },
  {
   "cell_type": "code",
   "execution_count": null,
   "id": "587342fe",
   "metadata": {},
   "outputs": [],
   "source": []
  }
 ],
 "metadata": {
  "kernelspec": {
   "display_name": "Python 3",
   "language": "python",
   "name": "python3"
  },
  "language_info": {
   "codemirror_mode": {
    "name": "ipython",
    "version": 3
   },
   "file_extension": ".py",
   "mimetype": "text/x-python",
   "name": "python",
   "nbconvert_exporter": "python",
   "pygments_lexer": "ipython3",
   "version": "3.6.13"
  }
 },
 "nbformat": 4,
 "nbformat_minor": 5
}
